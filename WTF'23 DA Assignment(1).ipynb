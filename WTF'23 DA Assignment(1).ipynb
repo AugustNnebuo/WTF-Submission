{
 "cells": [
  {
   "cell_type": "code",
   "execution_count": null,
   "metadata": {},
   "outputs": [],
   "source": [
    "\"\"\"\n",
    "QUESTIONS\n",
    "\n",
    "1. print all the elements of a list\n",
    "2. using range(1,101),make 2 list,one containing all even numbers and the other containing all odd numbers\n",
    "3. A company decided to give bonus of 5% to employee if his/her year of service is more than 5 years. Ask user for their salary\n",
    "and year of service and print the net bonus amount.\n",
    "4.Take input of age  of 3 people by user and determine oldest and youngest among them\n",
    "5. a school has following rules of grading system\n",
    "6. write a python script to merge two Python dictionaries\n",
    "7.Write a python program to remove a key from a dictionary\n",
    "8. Write a python program to get the largest number from a list.\n",
    "\"\"\""
   ]
  },
  {
   "cell_type": "code",
   "execution_count": 2,
   "metadata": {},
   "outputs": [
    {
     "name": "stdout",
     "output_type": "stream",
     "text": [
      "Jack\n",
      "15\n",
      "Angel\n",
      "20\n",
      "Pringles\n"
     ]
    }
   ],
   "source": [
    "#ANSWERS\n",
    "#1. print all the elements of a list\n",
    "\n",
    "list_elements=[\"Jack\",15,\"Angel\",20,\"Pringles\"]\n",
    "\n",
    "#using a for loop\n",
    "for element in list_elements:\n",
    "    print(element)\n"
   ]
  },
  {
   "cell_type": "code",
   "execution_count": 3,
   "metadata": {},
   "outputs": [
    {
     "name": "stdout",
     "output_type": "stream",
     "text": [
      "even number: [2, 4, 6, 8, 10, 12, 14, 16, 18, 20, 22, 24, 26, 28, 30, 32, 34, 36, 38, 40, 42, 44, 46, 48, 50, 52, 54, 56, 58, 60, 62, 64, 66, 68, 70, 72, 74, 76, 78, 80, 82, 84, 86, 88, 90, 92, 94, 96, 98, 100]\n",
      "\n",
      "odd number: [1, 3, 5, 7, 9, 11, 13, 15, 17, 19, 21, 23, 25, 27, 29, 31, 33, 35, 37, 39, 41, 43, 45, 47, 49, 51, 53, 55, 57, 59, 61, 63, 65, 67, 69, 71, 73, 75, 77, 79, 81, 83, 85, 87, 89, 91, 93, 95, 97, 99]\n"
     ]
    }
   ],
   "source": [
    "#2. using range(1,101),make 2 list,one containing all even numbers and the other containing all odd numbers\n",
    "\n",
    "def split(liist):\n",
    "    even_list= []\n",
    "    odd_list= []\n",
    "    for i in liist:\n",
    "        if (i%2==0):\n",
    "            even_list.append(i)\n",
    "        else:\n",
    "            odd_list.append(i)\n",
    "            \n",
    "    print(\"even number:\",even_list)\n",
    "    print()\n",
    "    print(\"odd number:\",odd_list)\n",
    "            \n",
    "liist=range(1,101)\n",
    "split(liist)"
   ]
  },
  {
   "cell_type": "code",
   "execution_count": null,
   "metadata": {},
   "outputs": [],
   "source": [
    "#3. A company decided to give bonus of 5% to employee if his/her year of service is more than 5 years. Ask user for their salary\n",
    "#and year of service and print the net bonus amount.\n",
    "\n",
    "y_o_s=int(input(\"for how many years have you worked with this company:\"))\n",
    "salary=int(input(\"what is your salary:\"))\n",
    "bonus=56\n",
    "\n",
    "if y_o_s>5:\n",
    "    print(\"Your net bonus amount for this year is:\",salary*5,\"Congarts! you've gotten an extra bonus of 5%\")\n",
    "else:\n",
    "    print(\"Your net bonus amount for this year is:\",salary)"
   ]
  },
  {
   "cell_type": "code",
   "execution_count": 18,
   "metadata": {},
   "outputs": [
    {
     "name": "stdout",
     "output_type": "stream",
     "text": [
      "Please input your age:2\n",
      "Please input your age:3\n",
      "Please input your age:4\n",
      "user3 is the Oldest\n",
      "user1 is the youngest\n"
     ]
    }
   ],
   "source": [
    "#4.Take input of age  of 3 people by user and determine oldest and youngest among them\n",
    "\n",
    "user1=int(input(\"Please input your age:\"))\n",
    "user2=int(input(\"Please input your age:\"))\n",
    "user3=int(input(\"Please input your age:\"))\n",
    "\n",
    "if (user1>user2) & (user1>user3):\n",
    "        print(\"user1 is the Oldest\")\n",
    "        if user2<user3:\n",
    "            print(\"User2 is the youngest\")\n",
    "        else:\n",
    "            print(\"user3 is the youngest\")\n",
    "            \n",
    "elif(user2>user1) & (user2>user3):\n",
    "        print(\"user2 is the oldest\")\n",
    "        if user1<user3:\n",
    "            print(\"User1 is the youngest\")\n",
    "        else:\n",
    "            print(\"user3 is the yoingest\")\n",
    "            \n",
    "else:\n",
    "    print(\"user3 is the Oldest\")\n",
    "    if user1<user2:\n",
    "        print(\"user1 is the youngest\")\n",
    "    else:\n",
    "        print(\"user2 is the youngest\")\n",
    "        "
   ]
  },
  {
   "cell_type": "code",
   "execution_count": null,
   "metadata": {},
   "outputs": [],
   "source": [
    "#5. a school has following rules of grading system\n",
    "\n",
    "#incomplete information given"
   ]
  },
  {
   "cell_type": "code",
   "execution_count": 15,
   "metadata": {},
   "outputs": [
    {
     "name": "stdout",
     "output_type": "stream",
     "text": [
      "{'data science': 10, 'ML engineer': 9, 'Data_engineer': 8, 'Data Analyst': 7, 'Busisness Analyst': 6}\n"
     ]
    }
   ],
   "source": [
    "#6. write a python script to merge two Python dictionaries\n",
    "dict_A={\"data science\":10,\"ML engineer\":9, \"Data_engineer\":8}\n",
    "dict_B={\"Data Analyst\":7,\"Busisness Analyst\":6}\n",
    "data=dict_A.copy()\n",
    "data.update(dict_B)\n",
    "print(data)"
   ]
  },
  {
   "cell_type": "code",
   "execution_count": 14,
   "metadata": {},
   "outputs": [
    {
     "name": "stdout",
     "output_type": "stream",
     "text": [
      "{'Numpy': 4, 'Pandas': 10, 'Matplotlib': 6}\n"
     ]
    }
   ],
   "source": [
    "#7.Write a python program to remove a key from a dictionary\n",
    "\n",
    "subjects={\"Python\":5,\"Numpy\":4,\"Pandas\":10,\"Matplotlib\":6}\n",
    "#using the del keyword\n",
    "del subjects[\"Python\"]   #deleting the python key\n",
    "\n",
    "print(subjects)"
   ]
  },
  {
   "cell_type": "code",
   "execution_count": 11,
   "metadata": {},
   "outputs": [
    {
     "name": "stdout",
     "output_type": "stream",
     "text": [
      "17\n"
     ]
    }
   ],
   "source": [
    "#8. Write a python program to get the largest number from a list.\n",
    "\n",
    "\n",
    "def largest_num(list):\n",
    "    max=list[0]\n",
    "    for i in list:\n",
    "        if i>max:\n",
    "            max=i\n",
    "    return max\n",
    "\n",
    "print(largest_num([1,3,5,17,8,9,13]))"
   ]
  }
 ],
 "metadata": {
  "kernelspec": {
   "display_name": "Python 3",
   "language": "python",
   "name": "python3"
  },
  "language_info": {
   "codemirror_mode": {
    "name": "ipython",
    "version": 3
   },
   "file_extension": ".py",
   "mimetype": "text/x-python",
   "name": "python",
   "nbconvert_exporter": "python",
   "pygments_lexer": "ipython3",
   "version": "3.7.3"
  }
 },
 "nbformat": 4,
 "nbformat_minor": 2
}
